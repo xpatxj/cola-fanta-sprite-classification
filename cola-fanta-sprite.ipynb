{
  "nbformat": 4,
  "nbformat_minor": 0,
  "metadata": {
    "colab": {
      "provenance": [],
      "authorship_tag": "ABX9TyPARFsJXSTgHA7UJ8sfGozM",
      "include_colab_link": true
    },
    "kernelspec": {
      "name": "python3",
      "display_name": "Python 3"
    },
    "language_info": {
      "name": "python"
    }
  },
  "cells": [
    {
      "cell_type": "markdown",
      "metadata": {
        "id": "view-in-github",
        "colab_type": "text"
      },
      "source": [
        "<a href=\"https://colab.research.google.com/github/xpatxj/cola-fanta-sprite-classification/blob/main/cola-fanta-sprite.ipynb\" target=\"_parent\"><img src=\"https://colab.research.google.com/assets/colab-badge.svg\" alt=\"Open In Colab\"/></a>"
      ]
    },
    {
      "cell_type": "code",
      "execution_count": 1,
      "metadata": {
        "colab": {
          "base_uri": "https://localhost:8080/"
        },
        "id": "uIVbOU5bhIkc",
        "outputId": "b13446a9-b59b-4035-ec5a-e88a58bd6e39"
      },
      "outputs": [
        {
          "output_type": "stream",
          "name": "stdout",
          "text": [
            "Requirement already satisfied: gdown in /usr/local/lib/python3.10/dist-packages (4.6.6)\n",
            "Collecting gdown\n",
            "  Downloading gdown-4.7.1-py3-none-any.whl (15 kB)\n",
            "Requirement already satisfied: filelock in /usr/local/lib/python3.10/dist-packages (from gdown) (3.13.1)\n",
            "Requirement already satisfied: requests[socks] in /usr/local/lib/python3.10/dist-packages (from gdown) (2.31.0)\n",
            "Requirement already satisfied: six in /usr/local/lib/python3.10/dist-packages (from gdown) (1.16.0)\n",
            "Requirement already satisfied: tqdm in /usr/local/lib/python3.10/dist-packages (from gdown) (4.66.1)\n",
            "Requirement already satisfied: beautifulsoup4 in /usr/local/lib/python3.10/dist-packages (from gdown) (4.11.2)\n",
            "Requirement already satisfied: soupsieve>1.2 in /usr/local/lib/python3.10/dist-packages (from beautifulsoup4->gdown) (2.5)\n",
            "Requirement already satisfied: charset-normalizer<4,>=2 in /usr/local/lib/python3.10/dist-packages (from requests[socks]->gdown) (3.3.2)\n",
            "Requirement already satisfied: idna<4,>=2.5 in /usr/local/lib/python3.10/dist-packages (from requests[socks]->gdown) (3.6)\n",
            "Requirement already satisfied: urllib3<3,>=1.21.1 in /usr/local/lib/python3.10/dist-packages (from requests[socks]->gdown) (2.0.7)\n",
            "Requirement already satisfied: certifi>=2017.4.17 in /usr/local/lib/python3.10/dist-packages (from requests[socks]->gdown) (2023.11.17)\n",
            "Requirement already satisfied: PySocks!=1.5.7,>=1.5.6 in /usr/local/lib/python3.10/dist-packages (from requests[socks]->gdown) (1.7.1)\n",
            "Installing collected packages: gdown\n",
            "  Attempting uninstall: gdown\n",
            "    Found existing installation: gdown 4.6.6\n",
            "    Uninstalling gdown-4.6.6:\n",
            "      Successfully uninstalled gdown-4.6.6\n",
            "Successfully installed gdown-4.7.1\n",
            "Downloading...\n",
            "From (uriginal): https://drive.google.com/uc?id=1BpccrvnDWO4XcOSQz08Xc4rGYQR7gOLq\n",
            "From (redirected): https://drive.google.com/uc?id=1BpccrvnDWO4XcOSQz08Xc4rGYQR7gOLq&confirm=t&uuid=76f063e6-274e-40ec-97ee-d7d2954497ce\n",
            "To: /content/ai.zip\n",
            "100% 36.2M/36.2M [00:00<00:00, 50.5MB/s]\n"
          ]
        }
      ],
      "source": [
        "#instalacja pakietu gdown\n",
        "!pip install -U --no-cache-dir gdown --pre\n",
        "#usuwanie i tworzenie pustego katalogu data\n",
        "!rm -rf data && mkdir data\n",
        "#pobieranie zip-a ze zdjęciami\n",
        "!gdown 1BpccrvnDWO4XcOSQz08Xc4rGYQR7gOLq -O ai.zip\n",
        "#rozpakowywanie pliku data.zip do katalogu data\n",
        "!unzip -q ai.zip -d data"
      ]
    },
    {
      "cell_type": "code",
      "source": [
        "import matplotlib.pyplot as plt\n",
        "import numpy as np\n",
        "import PIL\n",
        "import tensorflow as tf\n",
        "import glob\n",
        "import os\n",
        "import xml.etree.ElementTree as ET\n",
        "\n",
        "from tensorflow import keras\n",
        "from tensorflow.keras import layers\n",
        "from tensorflow.keras.models import Sequential"
      ],
      "metadata": {
        "id": "-vlVZe6uhM2-"
      },
      "execution_count": 4,
      "outputs": []
    },
    {
      "cell_type": "code",
      "source": [
        "tree = ET.parse('/content/data/ai/annotations.xml')\n",
        "root = tree.getroot()\n",
        "\n",
        "for child in root.iter('image'):\n",
        "    image_name = child.attrib['name'].replace('ai/', '')\n",
        "    image_label = child[0].attrib['label']\n",
        "\n",
        "    if not os.path.isdir(f'/content/data/ai/{image_label}'):\n",
        "        os.mkdir(f'/content/data/ai/{image_label}')\n",
        "\n",
        "    os.replace(f'/content/data/ai/{image_name}', f'/content/data/ai/{image_label}/{image_name}')\n"
      ],
      "metadata": {
        "id": "o4CJk9rUhNdY"
      },
      "execution_count": null,
      "outputs": []
    },
    {
      "cell_type": "code",
      "source": [
        "cola_count = len(list(glob.glob('data/**/cola/*.jpg')))\n",
        "fanta_count = len(list(glob.glob('data/**/fanta/*.jpg')))\n",
        "sprite_count = len(list(glob.glob('data/**/sprite/*.jpg')))\n",
        "print(f'{cola_count} examples of cola, {fanta_count} examples of fanta and {sprite_count} examples of sprite to train')"
      ],
      "metadata": {
        "colab": {
          "base_uri": "https://localhost:8080/"
        },
        "id": "GIi58kVRijWa",
        "outputId": "40d3cdfb-2f2b-46d3-a79f-ea1168dd0869"
      },
      "execution_count": 6,
      "outputs": [
        {
          "output_type": "stream",
          "name": "stdout",
          "text": [
            "27 examples of cola, 26 examples of fanta and 27 examples of sprite to train\n"
          ]
        }
      ]
    },
    {
      "cell_type": "code",
      "source": [
        "cola = list(glob.glob('data/ai/cola/*'))\n",
        "PIL.Image.open(str(cola[3]))"
      ],
      "metadata": {
        "id": "yaxtYEvPjcOQ"
      },
      "execution_count": null,
      "outputs": []
    },
    {
      "cell_type": "code",
      "source": [
        "batch_size = 32\n",
        "class_count = 3\n",
        "\n",
        "img_height = 64\n",
        "img_width = 64"
      ],
      "metadata": {
        "id": "0GEZbtbgjy-P"
      },
      "execution_count": 9,
      "outputs": []
    },
    {
      "cell_type": "code",
      "source": [
        "train_ds = tf.keras.utils.image_dataset_from_directory(\n",
        "  'data/ai',\n",
        "  validation_split=0.2,\n",
        "  subset='training',\n",
        "  seed=123,\n",
        "  image_size=(img_height, img_width),\n",
        "  batch_size=batch_size)\n",
        "\n",
        "val_ds = tf.keras.utils.image_dataset_from_directory(\n",
        "  'data/ai',\n",
        "  validation_split=0.2,\n",
        "  subset='validation',\n",
        "  seed=123,\n",
        "  image_size=(img_height, img_width),\n",
        "  batch_size=batch_size)"
      ],
      "metadata": {
        "colab": {
          "base_uri": "https://localhost:8080/"
        },
        "id": "xNXgnNOwj7qM",
        "outputId": "7238cce0-f6c1-4909-e700-d5638bc23879"
      },
      "execution_count": 10,
      "outputs": [
        {
          "output_type": "stream",
          "name": "stdout",
          "text": [
            "Found 80 files belonging to 3 classes.\n",
            "Using 64 files for training.\n",
            "Found 80 files belonging to 3 classes.\n",
            "Using 16 files for validation.\n"
          ]
        }
      ]
    },
    {
      "cell_type": "code",
      "source": [
        "class_names = train_ds.class_names\n",
        "print(f'class names: {class_names}')"
      ],
      "metadata": {
        "colab": {
          "base_uri": "https://localhost:8080/"
        },
        "id": "Oz5kzNmKkWYX",
        "outputId": "371caea3-7266-4b42-bc02-07b07fc7744c"
      },
      "execution_count": 11,
      "outputs": [
        {
          "output_type": "stream",
          "name": "stdout",
          "text": [
            "class names: ['cola', 'fanta', 'sprite']\n"
          ]
        }
      ]
    },
    {
      "cell_type": "code",
      "source": [
        "train_ds = train_ds.cache().shuffle(1000).prefetch(buffer_size=tf.data.AUTOTUNE)\n",
        "val_ds = val_ds.cache().prefetch(buffer_size=tf.data.AUTOTUNE)"
      ],
      "metadata": {
        "id": "kUU0fy-pk8KQ"
      },
      "execution_count": 12,
      "outputs": []
    },
    {
      "cell_type": "code",
      "source": [
        "model = Sequential([\n",
        "  layers.Rescaling(1./255, input_shape=(img_height, img_width, 3)),\n",
        "  layers.Conv2D(16, 3, padding='same', activation='relu'),\n",
        "  layers.MaxPooling2D(),\n",
        "  layers.Conv2D(32, 3, padding='same', activation='relu'),\n",
        "  layers.MaxPooling2D(),\n",
        "  layers.Conv2D(64, 3, padding='same', activation='relu'),\n",
        "  layers.MaxPooling2D(),\n",
        "  layers.Flatten(),\n",
        "  layers.Dense(128, activation='relu'),\n",
        "  layers.Dense(class_count)\n",
        "])"
      ],
      "metadata": {
        "id": "DxmhBWwzk-Ow"
      },
      "execution_count": 13,
      "outputs": []
    },
    {
      "cell_type": "code",
      "source": [
        "model.compile(optimizer='adam',\n",
        "              loss=tf.keras.losses.SparseCategoricalCrossentropy(from_logits=True),\n",
        "              metrics=['accuracy'])\n",
        "model.summary()"
      ],
      "metadata": {
        "colab": {
          "base_uri": "https://localhost:8080/"
        },
        "id": "FVb_l2BmlAUB",
        "outputId": "03782e14-83a2-4af7-b825-beda545d016f"
      },
      "execution_count": 14,
      "outputs": [
        {
          "output_type": "stream",
          "name": "stdout",
          "text": [
            "Model: \"sequential\"\n",
            "_________________________________________________________________\n",
            " Layer (type)                Output Shape              Param #   \n",
            "=================================================================\n",
            " rescaling (Rescaling)       (None, 64, 64, 3)         0         \n",
            "                                                                 \n",
            " conv2d (Conv2D)             (None, 64, 64, 16)        448       \n",
            "                                                                 \n",
            " max_pooling2d (MaxPooling2  (None, 32, 32, 16)        0         \n",
            " D)                                                              \n",
            "                                                                 \n",
            " conv2d_1 (Conv2D)           (None, 32, 32, 32)        4640      \n",
            "                                                                 \n",
            " max_pooling2d_1 (MaxPoolin  (None, 16, 16, 32)        0         \n",
            " g2D)                                                            \n",
            "                                                                 \n",
            " conv2d_2 (Conv2D)           (None, 16, 16, 64)        18496     \n",
            "                                                                 \n",
            " max_pooling2d_2 (MaxPoolin  (None, 8, 8, 64)          0         \n",
            " g2D)                                                            \n",
            "                                                                 \n",
            " flatten (Flatten)           (None, 4096)              0         \n",
            "                                                                 \n",
            " dense (Dense)               (None, 128)               524416    \n",
            "                                                                 \n",
            " dense_1 (Dense)             (None, 3)                 387       \n",
            "                                                                 \n",
            "=================================================================\n",
            "Total params: 548387 (2.09 MB)\n",
            "Trainable params: 548387 (2.09 MB)\n",
            "Non-trainable params: 0 (0.00 Byte)\n",
            "_________________________________________________________________\n"
          ]
        }
      ]
    },
    {
      "cell_type": "code",
      "source": [
        "epochs=20\n",
        "history = model.fit(\n",
        "  train_ds,\n",
        "  validation_data=val_ds,\n",
        "  epochs=epochs\n",
        ")"
      ],
      "metadata": {
        "colab": {
          "base_uri": "https://localhost:8080/"
        },
        "id": "eNvgL1rClCNW",
        "outputId": "553f19c6-64ff-48af-8360-79db12b35ec4"
      },
      "execution_count": 15,
      "outputs": [
        {
          "output_type": "stream",
          "name": "stdout",
          "text": [
            "Epoch 1/20\n",
            "2/2 [==============================] - 8s 3s/step - loss: 1.2629 - accuracy: 0.2656 - val_loss: 1.1699 - val_accuracy: 0.1875\n",
            "Epoch 2/20\n",
            "2/2 [==============================] - 0s 147ms/step - loss: 1.0999 - accuracy: 0.4531 - val_loss: 1.0628 - val_accuracy: 0.6250\n",
            "Epoch 3/20\n",
            "2/2 [==============================] - 0s 142ms/step - loss: 1.0476 - accuracy: 0.5000 - val_loss: 1.0399 - val_accuracy: 0.8125\n",
            "Epoch 4/20\n",
            "2/2 [==============================] - 0s 136ms/step - loss: 1.0108 - accuracy: 0.9062 - val_loss: 0.9981 - val_accuracy: 0.8125\n",
            "Epoch 5/20\n",
            "2/2 [==============================] - 0s 145ms/step - loss: 0.9462 - accuracy: 0.8594 - val_loss: 0.9606 - val_accuracy: 0.5625\n",
            "Epoch 6/20\n",
            "2/2 [==============================] - 0s 136ms/step - loss: 0.8463 - accuracy: 0.8125 - val_loss: 0.8625 - val_accuracy: 0.6250\n",
            "Epoch 7/20\n",
            "2/2 [==============================] - 0s 142ms/step - loss: 0.7203 - accuracy: 0.8906 - val_loss: 0.7314 - val_accuracy: 0.8125\n",
            "Epoch 8/20\n",
            "2/2 [==============================] - 0s 151ms/step - loss: 0.5806 - accuracy: 0.9062 - val_loss: 0.6091 - val_accuracy: 0.7500\n",
            "Epoch 9/20\n",
            "2/2 [==============================] - 0s 141ms/step - loss: 0.4436 - accuracy: 0.9219 - val_loss: 0.4330 - val_accuracy: 0.9375\n",
            "Epoch 10/20\n",
            "2/2 [==============================] - 0s 147ms/step - loss: 0.3126 - accuracy: 0.9375 - val_loss: 0.3668 - val_accuracy: 0.8125\n",
            "Epoch 11/20\n",
            "2/2 [==============================] - 0s 137ms/step - loss: 0.2118 - accuracy: 0.9531 - val_loss: 0.3622 - val_accuracy: 0.8125\n",
            "Epoch 12/20\n",
            "2/2 [==============================] - 0s 168ms/step - loss: 0.1538 - accuracy: 0.9844 - val_loss: 0.2904 - val_accuracy: 0.8750\n",
            "Epoch 13/20\n",
            "2/2 [==============================] - 0s 146ms/step - loss: 0.1045 - accuracy: 0.9844 - val_loss: 0.1727 - val_accuracy: 0.9375\n",
            "Epoch 14/20\n",
            "2/2 [==============================] - 0s 146ms/step - loss: 0.0695 - accuracy: 0.9844 - val_loss: 0.1556 - val_accuracy: 1.0000\n",
            "Epoch 15/20\n",
            "2/2 [==============================] - 0s 139ms/step - loss: 0.0478 - accuracy: 0.9844 - val_loss: 0.2384 - val_accuracy: 0.8125\n",
            "Epoch 16/20\n",
            "2/2 [==============================] - 0s 144ms/step - loss: 0.0314 - accuracy: 1.0000 - val_loss: 0.1688 - val_accuracy: 0.9375\n",
            "Epoch 17/20\n",
            "2/2 [==============================] - 0s 143ms/step - loss: 0.0163 - accuracy: 1.0000 - val_loss: 0.1007 - val_accuracy: 1.0000\n",
            "Epoch 18/20\n",
            "2/2 [==============================] - 0s 145ms/step - loss: 0.0123 - accuracy: 1.0000 - val_loss: 0.0854 - val_accuracy: 1.0000\n",
            "Epoch 19/20\n",
            "2/2 [==============================] - 0s 166ms/step - loss: 0.0063 - accuracy: 1.0000 - val_loss: 0.1030 - val_accuracy: 0.9375\n",
            "Epoch 20/20\n",
            "2/2 [==============================] - 0s 146ms/step - loss: 0.0044 - accuracy: 1.0000 - val_loss: 0.1187 - val_accuracy: 0.9375\n"
          ]
        }
      ]
    },
    {
      "cell_type": "code",
      "source": [
        "acc = history.history['accuracy']\n",
        "val_acc = history.history['val_accuracy']\n",
        "\n",
        "loss = history.history['loss']\n",
        "val_loss = history.history['val_loss']\n",
        "\n",
        "epochs_range = range(epochs)\n",
        "\n",
        "plt.figure(figsize=(8, 8))\n",
        "plt.subplot(1, 2, 1)\n",
        "plt.plot(epochs_range, acc, label='Training Accuracy')\n",
        "plt.plot(epochs_range, val_acc, label='Validation Accuracy')\n",
        "plt.legend(loc='lower right')\n",
        "plt.title('Training and Validation Accuracy')\n",
        "\n",
        "plt.subplot(1, 2, 2)\n",
        "plt.plot(epochs_range, loss, label='Training Loss')\n",
        "plt.plot(epochs_range, val_loss, label='Validation Loss')\n",
        "plt.legend(loc='upper right')\n",
        "plt.title('Training and Validation Loss')\n",
        "plt.show()"
      ],
      "metadata": {
        "colab": {
          "base_uri": "https://localhost:8080/",
          "height": 699
        },
        "id": "F0AwJzzqlFD-",
        "outputId": "0ccabb33-7ebc-4f5a-c92b-09b6ae4a827b"
      },
      "execution_count": 16,
      "outputs": [
        {
          "output_type": "display_data",
          "data": {
            "text/plain": [
              "<Figure size 800x800 with 2 Axes>"
            ],
            "image/png": "[encoded data removed]"
          },
          "metadata": {}
        }
      ]
    },
    {
      "cell_type": "code",
      "source": [
        "from sklearn.metrics import classification_report\n",
        "def evaluate_model(val_ds, model):\n",
        "    y_pred = []\n",
        "    y_true = []\n",
        "\n",
        "    for batch_images, batch_labels in val_ds:\n",
        "        predictions = model.predict(batch_images, verbose=0)\n",
        "        y_pred = y_pred + np.argmax(tf.nn.softmax(predictions), axis=1).tolist()\n",
        "        y_true = y_true + batch_labels.numpy().tolist()\n",
        "    print(classification_report(y_true, y_pred))\n",
        "\n",
        "evaluate_model(val_ds, model)"
      ],
      "metadata": {
        "colab": {
          "base_uri": "https://localhost:8080/"
        },
        "id": "O-CbkVC4lHjc",
        "outputId": "52443b1a-eed8-444f-a524-2b250e8727f3"
      },
      "execution_count": 17,
      "outputs": [
        {
          "output_type": "stream",
          "name": "stdout",
          "text": [
            "              precision    recall  f1-score   support\n",
            "\n",
            "           0       0.75      1.00      0.86         3\n",
            "           1       1.00      1.00      1.00         6\n",
            "           2       1.00      0.86      0.92         7\n",
            "\n",
            "    accuracy                           0.94        16\n",
            "   macro avg       0.92      0.95      0.93        16\n",
            "weighted avg       0.95      0.94      0.94        16\n",
            "\n"
          ]
        }
      ]
    }
  ]
}